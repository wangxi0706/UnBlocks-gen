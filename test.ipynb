{
 "cells": [
  {
   "cell_type": "code",
   "execution_count": null,
   "metadata": {},
   "outputs": [],
   "source": [
    "!python examples/Tunnel/tun"
   ]
  }
 ],
 "metadata": {
  "interpreter": {
   "hash": "5972a9f5f4c9c91d7ba915166be1b63c8377e8a544cc7c2ab2a0a5a44b8fc84b"
  },
  "kernelspec": {
   "display_name": "Python 3.8.3 64-bit ('OPT': conda)",
   "language": "python",
   "name": "python3"
  },
  "language_info": {
   "codemirror_mode": {
    "name": "ipython",
    "version": 3
   },
   "file_extension": ".py",
   "mimetype": "text/x-python",
   "name": "python",
   "nbconvert_exporter": "python",
   "pygments_lexer": "ipython3",
   "version": "3.9.7"
  },
  "metadata": {
   "interpreter": {
    "hash": "5ec8996a2900b6e7a1d927dd627df27a5a5c3c27761cb822211f1939931dbd50"
   }
  },
  "orig_nbformat": 2
 },
 "nbformat": 4,
 "nbformat_minor": 2
}
